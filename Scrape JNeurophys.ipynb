{
 "cells": [
  {
   "cell_type": "code",
   "execution_count": 69,
   "metadata": {
    "collapsed": true
   },
   "outputs": [],
   "source": [
    "from bs4 import BeautifulSoup as bs\n",
    "from requests import get\n",
    "import requests\n",
    "import re\n"
   ]
  },
  {
   "cell_type": "markdown",
   "metadata": {},
   "source": [
    "Journal of Neurophysiology is structured such that you can find all volume and issue information hidden on any of the volume pages, so we can just start with the first volume and create a list of links for the remaining volumes."
   ]
  },
  {
   "cell_type": "code",
   "execution_count": null,
   "metadata": {
    "collapsed": true
   },
   "outputs": [],
   "source": [
    "start_url = 'https://journals.physiology.org/loi/jn/group/d1940.y1940'\n",
    "url = start_url\n",
    "year = get(url)\n",
    "year_page = bs(year.text, 'html.parser')\n",
    "all_vol = year_page.find_all('a',{'href': re.compile(r'/toc/jn/')})\n",
    "vol_list = []\n",
    "for v in all_vol:\n",
    "    try: \n",
    "        vol_str = re.search(r'Volume\\s\\d{1,3}',str(v)).group()\n",
    "        vol_int = int(vol_str[7:])\n",
    "        vol_list.append(vol_int)\n",
    "    except AttributeError:\n",
    "        print('Something bad happened.')\n",
    "\n",
    "vol_list.sort()\n"
   ]
  },
  {
   "cell_type": "markdown",
   "metadata": {},
   "source": [
    "Default digital open access starts in Volume 77, issue 1. Perhaps start the loop from this point instead of going through all of the earlier volumes, which are all paywalled and in PDF form."
   ]
  },
  {
   "cell_type": "code",
   "execution_count": null,
   "metadata": {
    "collapsed": true
   },
   "outputs": [],
   "source": [
    "open_access = [i for i in vol_list if i>76]\n",
    "print(open_access)"
   ]
  },
  {
   "cell_type": "code",
   "execution_count": null,
   "metadata": {
    "collapsed": true
   },
   "outputs": [],
   "source": [
    "last_v = 0\n",
    "base_url = 'https://journals.physiology.org/toc/jn/'\n",
    "for v in open_access:\n",
    "    # count the issues in each volume\n",
    "    if v!=last_v:\n",
    "        issue=1\n",
    "    else:\n",
    "        issue+=1\n",
    "    \n",
    "    # construct the url for the issue and load it\n",
    "    issue_url = base_url + str(v) +'/' + str(issue)\n",
    "    print(issue_url)\n",
    "    get_issue = get(issue_url)\n",
    "    issue_page = bs(get_issue.text, 'html.parser')\n",
    "    issue_date = issue_page.find('div',{'class':'col-sm-4 gray-bg toc-right-side'}).\\\n",
    "        find('span',{'class':'coverDate'}).get_text()\n",
    "\n",
    "    # scrape all of the articles in this issue\n",
    "    toc = issue_page.find_all('div',{'class':'table-of-content'})[0].find_all('div',{'class':'issue-item'})\n",
    "\n",
    "    # loop through the articles\n",
    "    for c in toc:\n",
    "        \n",
    "        # check if article is behind a paywall. If so, skip it (for now)\n",
    "        if not c.find('div',{'class':'badges'}).get_text():\n",
    "            continue\n",
    "        \n",
    "        # get article metadata\n",
    "        art_url = 'https://journals.physiology.org' + c.find('a').get('href')\n",
    "        art_title = c.find('h4').text\n",
    "        auth = c.find('ul',{'class':'rlist--inline loa'}).find_all('li')\n",
    "        art_authors = [a.get_text().replace(', and ','') for a in auth]\n",
    "        art_doi = c.select(\".epub-section__item\")[0].find('a').get('href')[16:]\n",
    "        \n",
    "        # load article\n",
    "        get_art = get(art_url)\n",
    "        art_page = bs(get_art, 'html.parser')\n",
    "\n",
    "        # get abstract\n",
    "        # THIS IS WHERE I STARTED TO WONDER HOW TO STRUCTURE THE DATABASE\n",
    "            \n",
    "        \n",
    "    \n",
    "    "
   ]
  },
  {
   "cell_type": "code",
   "execution_count": null,
   "metadata": {
    "collapsed": true
   },
   "outputs": [],
   "source": []
  },
  {
   "cell_type": "code",
   "execution_count": null,
   "metadata": {
    "collapsed": true
   },
   "outputs": [],
   "source": []
  },
  {
   "cell_type": "code",
   "execution_count": null,
   "metadata": {
    "collapsed": true
   },
   "outputs": [],
   "source": []
  },
  {
   "cell_type": "code",
   "execution_count": null,
   "metadata": {
    "collapsed": true
   },
   "outputs": [],
   "source": []
  },
  {
   "cell_type": "code",
   "execution_count": null,
   "metadata": {
    "collapsed": true
   },
   "outputs": [],
   "source": []
  },
  {
   "cell_type": "code",
   "execution_count": null,
   "metadata": {
    "collapsed": true
   },
   "outputs": [],
   "source": []
  },
  {
   "cell_type": "code",
   "execution_count": null,
   "metadata": {
    "collapsed": true
   },
   "outputs": [],
   "source": []
  },
  {
   "cell_type": "code",
   "execution_count": null,
   "metadata": {
    "collapsed": true
   },
   "outputs": [],
   "source": []
  },
  {
   "cell_type": "code",
   "execution_count": null,
   "metadata": {
    "collapsed": true
   },
   "outputs": [],
   "source": []
  },
  {
   "cell_type": "code",
   "execution_count": null,
   "metadata": {
    "collapsed": true
   },
   "outputs": [],
   "source": []
  },
  {
   "cell_type": "code",
   "execution_count": null,
   "metadata": {
    "collapsed": true
   },
   "outputs": [],
   "source": []
  },
  {
   "cell_type": "code",
   "execution_count": null,
   "metadata": {
    "collapsed": true
   },
   "outputs": [],
   "source": []
  },
  {
   "cell_type": "markdown",
   "metadata": {},
   "source": [
    "# Testing stuff out"
   ]
  },
  {
   "cell_type": "code",
   "execution_count": 39,
   "metadata": {},
   "outputs": [
    {
     "data": {
      "text/plain": [
       "''"
      ]
     },
     "execution_count": 39,
     "metadata": {},
     "output_type": "execute_result"
    }
   ],
   "source": [
    "page = get('https://journals.physiology.org/toc/jn/123/1')\n",
    "test_page = bs(page.text, 'html.parser')\n",
    "toc = test_page.find_all('div',{'class':'table-of-content'})[0].find_all('div',{'class':'issue-item'})\n",
    "toc[0].find('div',{'class':'badges'}).get_text()"
   ]
  },
  {
   "cell_type": "code",
   "execution_count": 37,
   "metadata": {
    "collapsed": true
   },
   "outputs": [],
   "source": [
    "date = test_page.find('div',{'class':'col-sm-4 gray-bg toc-right-side'}).\\\n",
    "    find('span',{'class':'coverDate'}).get_text()"
   ]
  },
  {
   "cell_type": "code",
   "execution_count": 38,
   "metadata": {},
   "outputs": [
    {
     "data": {
      "text/plain": [
       "'Dec 2014'"
      ]
     },
     "execution_count": 38,
     "metadata": {},
     "output_type": "execute_result"
    }
   ],
   "source": [
    "date"
   ]
  },
  {
   "cell_type": "code",
   "execution_count": 43,
   "metadata": {},
   "outputs": [
    {
     "data": {
      "text/plain": [
       "'10.1152/jn.00537.2019'"
      ]
     },
     "execution_count": 43,
     "metadata": {},
     "output_type": "execute_result"
    }
   ],
   "source": [
    "toc[0].select(\".epub-section__item\")[0].find('a').get('href')[16:]"
   ]
  },
  {
   "cell_type": "code",
   "execution_count": null,
   "metadata": {
    "collapsed": true
   },
   "outputs": [],
   "source": []
  }
 ],
 "metadata": {
  "kernelspec": {
   "display_name": "Python 3",
   "language": "python",
   "name": "python3"
  },
  "language_info": {
   "codemirror_mode": {
    "name": "ipython",
    "version": 3
   },
   "file_extension": ".py",
   "mimetype": "text/x-python",
   "name": "python",
   "nbconvert_exporter": "python",
   "pygments_lexer": "ipython3",
   "version": "3.6.10"
  }
 },
 "nbformat": 4,
 "nbformat_minor": 2
}
