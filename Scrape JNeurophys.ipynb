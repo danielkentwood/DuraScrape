{
 "cells": [
  {
   "cell_type": "code",
   "execution_count": 36,
   "metadata": {
    "collapsed": true
   },
   "outputs": [],
   "source": [
    "from bs4 import BeautifulSoup as bs\n",
    "from requests import get\n",
    "import requests\n",
    "import re\n"
   ]
  },
  {
   "cell_type": "markdown",
   "metadata": {},
   "source": [
    "Journal of Neurophysiology is structured such that you can find all volume and issue information hidden on any of the volume pages, so we can just start with the first volume and create a list of links for the remaining volumes."
   ]
  },
  {
   "cell_type": "code",
   "execution_count": null,
   "metadata": {
    "collapsed": true
   },
   "outputs": [],
   "source": [
    "start_url = 'https://journals.physiology.org/loi/jn/group/d1940.y1940'\n",
    "url = start_url\n",
    "year = get(url)\n",
    "year_page = bs(year.text, 'html.parser')\n",
    "all_vol = year_page.find_all('a',{'href': re.compile(r'/toc/jn/')})\n",
    "vol_list = []\n",
    "for v in all_vol:\n",
    "    try: \n",
    "        vol_str = re.search(r'Volume\\s\\d{1,3}',str(v)).group()\n",
    "        vol_int = int(vol_str[7:])\n",
    "        vol_list.append(vol_int)\n",
    "    except AttributeError:\n",
    "        print('Something bad happened.')\n",
    "\n",
    "vol_list.sort()\n"
   ]
  },
  {
   "cell_type": "markdown",
   "metadata": {},
   "source": [
    "Default digital open access starts in Volume 77, issue 1. Perhaps start the loop from this point instead of going through all of the earlier volumes, which are all paywalled and in PDF form."
   ]
  },
  {
   "cell_type": "code",
   "execution_count": null,
   "metadata": {
    "collapsed": true
   },
   "outputs": [],
   "source": [
    "open_access = [i for i in vol_list if i>76]\n",
    "print(open_access)"
   ]
  },
  {
   "cell_type": "code",
   "execution_count": null,
   "metadata": {
    "collapsed": true
   },
   "outputs": [],
   "source": [
    "last_v = 0\n",
    "base_url = 'https://journals.physiology.org/toc/jn/'\n",
    "for v in open_access:\n",
    "    # count the issues in each volume\n",
    "    if v!=last_v:\n",
    "        issue=1\n",
    "    else:\n",
    "        issue+=1\n",
    "    \n",
    "    # construct the url for the issue and load it\n",
    "    issue_url = base_url + str(v) +'/' + str(issue)\n",
    "    print(issue_url)\n",
    "    get_issue = get(issue_url)\n",
    "    issue_page = bs(get_issue.text, 'html.parser')\n",
    "    issue_date = issue_page.find('div',{'class':'col-sm-4 gray-bg toc-right-side'}).\\\n",
    "        find('span',{'class':'coverDate'}).get_text()\n",
    "\n",
    "    # scrape all of the articles in this issue\n",
    "    toc = issue_page.find_all('div',{'class':'table-of-content'})[0].find_all('div',{'class':'issue-item'})\n",
    "\n",
    "    # loop through the articles\n",
    "    for c in toc:\n",
    "        section = dict()\n",
    "        \n",
    "        # check if article is behind a paywall. If so, skip it (for now)\n",
    "        if not c.find('div',{'class':'badges'}).get_text():\n",
    "            continue\n",
    "        \n",
    "        # get article metadata\n",
    "        art.url = 'https://journals.physiology.org' + c.find('a').get('href')\n",
    "        art.title = c.find('h4').text\n",
    "        auth = c.find('ul',{'class':'rlist--inline loa'}).find_all('li')\n",
    "        art.authors = [a.get_text().replace(', and ','') for a in auth]\n",
    "        art.doi = c.select(\".epub-section__item\")[0].find('a').get('href')[16:]\n",
    "        art.id = get_next_id(db_name, table_name) # still needs to be written\n",
    "        \n",
    "        # check if this article is already in database\n",
    "        # (currently, check the title for a match)\n",
    "        # if not, add metadata to table and load article. If so, continue loop.\n",
    "        if new_article_check(art.title): # still needs to be written\n",
    "            add_new_row(db_name, table_name, art)\n",
    "        else:\n",
    "            continue\n",
    "        \n",
    "        # load article\n",
    "        get_art = get(art.url)\n",
    "        art_page = bs(get_art, 'html.parser')\n",
    "        \n",
    "        # get reference list\n",
    "        rlist = art_page.find('ul',{'class':'rlist separator'}).find_all('li')\n",
    "        # loop through references and add them to database\n",
    "        for r in rlist:\n",
    "            r.url = [i.get('href') for i in r.find_all('a')]\n",
    "            r.title = r.find('span',{'class':'references__article-title'}).get_text()\n",
    "            r.authors = r.find('span',{'class':'references__authors'}).get_text().split(', ')\n",
    "            r.id = get_next_id(db_name, table_name) # still needs to be written\n",
    "            \n",
    "            # check if article is in database\n",
    "            if new_article_check(art.title): # still needs to be written\n",
    "                add_new_row(db_name, table_name, r)\n",
    "            else:\n",
    "                continue\n",
    "            \n",
    "            # add the citation\n",
    "            # This function should add the citing ID to a list of citing IDs in the entry for the cited ID\n",
    "            # It should also add the cited ID to a list of cited IDs in the entry for the citing ID\n",
    "            add_citation_to_DB(citing_ID = art.id, cited_ID = r.id)\n",
    "            \n",
    "            \n",
    "        # get article sections\n",
    "        # get abstract\n",
    "        section{'Abstract'} = art_page.select('div.hlFld-Abstract div.abstractSection')[0].get_text()\n",
    "        # get all other sections\n",
    "        section['Introduction'] = ''\n",
    "        fulltext = test_page.find('div', {'class': 'hlFld-Fulltext'}).findChildren(recursive=False)\n",
    "        for f in fulltext:\n",
    "            heading = f.find('h1',{'class':'article-section__title section__title'})\n",
    "            if not heading:\n",
    "                section['Introduction']  = section['Introduction']  + ' ' + f.find_text()\n",
    "            else:\n",
    "                section[heading.get_text()] = ''\n",
    "                for text in heading.find_parent().findChildren('div'):\n",
    "                    section[heading.get_text()] = section[heading.get_text()] + text.get_text()\n",
    "        \n",
    "        \n",
    "            \n",
    "        \n",
    "    \n",
    "    "
   ]
  },
  {
   "cell_type": "code",
   "execution_count": null,
   "metadata": {
    "collapsed": true
   },
   "outputs": [],
   "source": []
  },
  {
   "cell_type": "code",
   "execution_count": null,
   "metadata": {
    "collapsed": true
   },
   "outputs": [],
   "source": []
  },
  {
   "cell_type": "markdown",
   "metadata": {
    "collapsed": true
   },
   "source": [
    "## Brainstorming:\n",
    "* Have a function that cycles through the DB, checks for entries with no text, and tries to find the text via PubMed (with the PubMed parser) or with Google Scholar\n",
    "* "
   ]
  },
  {
   "cell_type": "code",
   "execution_count": null,
   "metadata": {
    "collapsed": true
   },
   "outputs": [],
   "source": []
  },
  {
   "cell_type": "code",
   "execution_count": null,
   "metadata": {
    "collapsed": true
   },
   "outputs": [],
   "source": []
  },
  {
   "cell_type": "code",
   "execution_count": null,
   "metadata": {
    "collapsed": true
   },
   "outputs": [],
   "source": []
  },
  {
   "cell_type": "code",
   "execution_count": null,
   "metadata": {
    "collapsed": true
   },
   "outputs": [],
   "source": []
  },
  {
   "cell_type": "code",
   "execution_count": null,
   "metadata": {
    "collapsed": true
   },
   "outputs": [],
   "source": []
  },
  {
   "cell_type": "code",
   "execution_count": null,
   "metadata": {
    "collapsed": true
   },
   "outputs": [],
   "source": []
  },
  {
   "cell_type": "code",
   "execution_count": null,
   "metadata": {
    "collapsed": true
   },
   "outputs": [],
   "source": []
  },
  {
   "cell_type": "code",
   "execution_count": null,
   "metadata": {
    "collapsed": true
   },
   "outputs": [],
   "source": []
  },
  {
   "cell_type": "code",
   "execution_count": null,
   "metadata": {
    "collapsed": true
   },
   "outputs": [],
   "source": []
  },
  {
   "cell_type": "markdown",
   "metadata": {},
   "source": [
    "# Testing stuff out"
   ]
  },
  {
   "cell_type": "code",
   "execution_count": 37,
   "metadata": {
    "collapsed": true
   },
   "outputs": [],
   "source": [
    "# page = get('https://journals.physiology.org/doi/full/10.1152/jn.00104.2016')\n",
    "page = get('https://journals.physiology.org/doi/full/10.1152/jn.00399.2013')\n",
    "test_page = bs(page.text, 'html.parser')\n"
   ]
  },
  {
   "cell_type": "code",
   "execution_count": null,
   "metadata": {
    "collapsed": true
   },
   "outputs": [],
   "source": [
    "loa = test_page.find('div',{'class':'accordion-tabbed loa-accordion'}).\\\n",
    "find_all('div',{'class':'accordion-tabbed__tab-mobile '})\n",
    "[i.find('a').get_text() for i in loa]"
   ]
  },
  {
   "cell_type": "code",
   "execution_count": null,
   "metadata": {
    "collapsed": true
   },
   "outputs": [],
   "source": [
    "test_page.select('div.cover-image__details ')[0].find('span',{'class':'volume'}).get_text()"
   ]
  },
  {
   "cell_type": "code",
   "execution_count": null,
   "metadata": {
    "collapsed": true
   },
   "outputs": [],
   "source": [
    "test_page.select('div.cover-image__details ')[0].find('span',{'class':'issue'}).get_text()"
   ]
  },
  {
   "cell_type": "code",
   "execution_count": null,
   "metadata": {
    "collapsed": true
   },
   "outputs": [],
   "source": [
    "int(test_page.select('div.cover-image__details ')[0].\\\n",
    "            find('span', {'class': 'coverDate'}).get_text()[-4:])"
   ]
  },
  {
   "cell_type": "code",
   "execution_count": null,
   "metadata": {
    "collapsed": true
   },
   "outputs": [],
   "source": [
    "fulltext = test_page.find('div', {'class': 'hlFld-Fulltext'}).findChildren(recursive=False)"
   ]
  },
  {
   "cell_type": "code",
   "execution_count": null,
   "metadata": {
    "collapsed": true
   },
   "outputs": [],
   "source": [
    "fulltext[7].find('h1',{'class':'article-section__title section__title'})"
   ]
  },
  {
   "cell_type": "code",
   "execution_count": null,
   "metadata": {
    "collapsed": true,
    "scrolled": false
   },
   "outputs": [],
   "source": [
    "refs = dict()"
   ]
  },
  {
   "cell_type": "code",
   "execution_count": 38,
   "metadata": {
    "collapsed": true
   },
   "outputs": [],
   "source": [
    "rlist = test_page.find('ul', {'class': 'rlist separator'}).find_all('li')"
   ]
  },
  {
   "cell_type": "code",
   "execution_count": 39,
   "metadata": {},
   "outputs": [
    {
     "data": {
      "text/plain": [
       "'2008'"
      ]
     },
     "execution_count": 39,
     "metadata": {},
     "output_type": "execute_result"
    }
   ],
   "source": [
    "r = rlist[0]\n",
    "r.find('span', {'class': 'references__year'}).get_text()"
   ]
  },
  {
   "cell_type": "code",
   "execution_count": 40,
   "metadata": {},
   "outputs": [
    {
     "data": {
      "text/plain": [
       "'J Neurophysiol'"
      ]
     },
     "execution_count": 40,
     "metadata": {},
     "output_type": "execute_result"
    }
   ],
   "source": [
    "r.find('span', {'class': 'references__source'}).get_text()"
   ]
  },
  {
   "cell_type": "code",
   "execution_count": null,
   "metadata": {
    "collapsed": true
   },
   "outputs": [],
   "source": []
  },
  {
   "cell_type": "code",
   "execution_count": null,
   "metadata": {
    "collapsed": true
   },
   "outputs": [],
   "source": []
  },
  {
   "cell_type": "code",
   "execution_count": null,
   "metadata": {
    "collapsed": true
   },
   "outputs": [],
   "source": []
  },
  {
   "cell_type": "code",
   "execution_count": null,
   "metadata": {
    "collapsed": true
   },
   "outputs": [],
   "source": []
  },
  {
   "cell_type": "code",
   "execution_count": null,
   "metadata": {
    "collapsed": true
   },
   "outputs": [],
   "source": []
  },
  {
   "cell_type": "code",
   "execution_count": null,
   "metadata": {
    "collapsed": true
   },
   "outputs": [],
   "source": [
    "import numpy as np"
   ]
  },
  {
   "cell_type": "code",
   "execution_count": null,
   "metadata": {
    "collapsed": true
   },
   "outputs": [],
   "source": [
    "np.nan"
   ]
  },
  {
   "cell_type": "code",
   "execution_count": null,
   "metadata": {
    "collapsed": true
   },
   "outputs": [],
   "source": [
    "section = dict()"
   ]
  },
  {
   "cell_type": "code",
   "execution_count": null,
   "metadata": {
    "collapsed": true
   },
   "outputs": [],
   "source": [
    "section[fulltext[7].find('h1',{'class':'article-section__title section__title'}).get_text()] = 'hi'"
   ]
  },
  {
   "cell_type": "code",
   "execution_count": null,
   "metadata": {
    "collapsed": true
   },
   "outputs": [],
   "source": [
    "sec_text = fulltext[7].find('h1',{'class':'article-section__title section__title'}).find_parent().findChildren('div')"
   ]
  },
  {
   "cell_type": "code",
   "execution_count": null,
   "metadata": {
    "collapsed": true
   },
   "outputs": [],
   "source": [
    "heading = fulltext[7].find('h1',{'class':'article-section__title section__title'})\n",
    "section[heading.get_text()] = ''\n",
    "for text in heading.find_parent().findChildren('div'):\n",
    "    section[heading.get_text()] = section[heading.get_text()] + text.get_text()"
   ]
  },
  {
   "cell_type": "markdown",
   "metadata": {},
   "source": [
    "## Testing out pymysql with Amazon RDS"
   ]
  },
  {
   "cell_type": "code",
   "execution_count": null,
   "metadata": {
    "collapsed": true
   },
   "outputs": [],
   "source": [
    "import journal_scrape as js"
   ]
  },
  {
   "cell_type": "code",
   "execution_count": null,
   "metadata": {
    "collapsed": true
   },
   "outputs": [],
   "source": [
    "# import sys\n",
    "# !{sys.executable} -m pip install -U PyMySQL\n",
    "import pymysql"
   ]
  },
  {
   "cell_type": "code",
   "execution_count": null,
   "metadata": {},
   "outputs": [],
   "source": [
    "db = js.Database()"
   ]
  },
  {
   "cell_type": "code",
   "execution_count": null,
   "metadata": {
    "collapsed": true
   },
   "outputs": [],
   "source": [
    "db.connect()"
   ]
  },
  {
   "cell_type": "code",
   "execution_count": null,
   "metadata": {
    "collapsed": true
   },
   "outputs": [],
   "source": [
    "\n",
    "\n",
    "# dbname = \"findingssm\"\n",
    "# host = \"findingssm.c9zjgwsivgee.us-east-2.rds.amazonaws.com\"\n",
    "# port = 3306\n",
    "# user = \"danielkentwood\"\n",
    "# password = \"findingsdbsm\"\n",
    "\n",
    "# conn = pymysql.connect(host, user=user, port=port, passwd=password, db=dbname, connect_timeout=5)"
   ]
  },
  {
   "cell_type": "code",
   "execution_count": null,
   "metadata": {
    "collapsed": true
   },
   "outputs": [],
   "source": [
    "db.cursor()"
   ]
  },
  {
   "cell_type": "code",
   "execution_count": null,
   "metadata": {
    "collapsed": true
   },
   "outputs": [],
   "source": [
    "sql = '''\n",
    "    CREATE TABLE [IF NOT EXISTS] metadata (\n",
    "    id INT,\n",
    "    url VARCHAR(255),\n",
    "    year YEAR,\n",
    "    volume INT,\n",
    "    issue INT,\n",
    "    title VARCHAR(255),\n",
    "    authors VARCHAR(255),\n",
    "    doi VARCHAR(255)\n",
    ");'''\n",
    "\n",
    "db.cursor(sql)"
   ]
  },
  {
   "cell_type": "code",
   "execution_count": null,
   "metadata": {
    "collapsed": true
   },
   "outputs": [],
   "source": [
    "sql = '''\n",
    "    CREATE TABLE [IF NOT EXISTS] text (\n",
    "    id INT,\n",
    "    sectionA VARCHAR(255),\n",
    "    sectionB VARCHAR(255),\n",
    "    text VARCHAR(255)\n",
    ");'''\n",
    "\n",
    "db.cursor(sql)"
   ]
  },
  {
   "cell_type": "code",
   "execution_count": null,
   "metadata": {
    "collapsed": true
   },
   "outputs": [],
   "source": []
  },
  {
   "cell_type": "code",
   "execution_count": 57,
   "metadata": {},
   "outputs": [],
   "source": [
    "from dbclass import Database\n",
    "import pandas as pd   "
   ]
  },
  {
   "cell_type": "code",
   "execution_count": 58,
   "metadata": {},
   "outputs": [],
   "source": [
    "db = Database()\n",
    "db.create_tables()"
   ]
  },
  {
   "cell_type": "code",
   "execution_count": 3,
   "metadata": {},
   "outputs": [
    {
     "data": {
      "text/html": [
       "<div>\n",
       "<style scoped>\n",
       "    .dataframe tbody tr th:only-of-type {\n",
       "        vertical-align: middle;\n",
       "    }\n",
       "\n",
       "    .dataframe tbody tr th {\n",
       "        vertical-align: top;\n",
       "    }\n",
       "\n",
       "    .dataframe thead th {\n",
       "        text-align: right;\n",
       "    }\n",
       "</style>\n",
       "<table border=\"1\" class=\"dataframe\">\n",
       "  <thead>\n",
       "    <tr style=\"text-align: right;\">\n",
       "      <th></th>\n",
       "      <th>id</th>\n",
       "      <th>url</th>\n",
       "      <th>journal</th>\n",
       "      <th>year</th>\n",
       "      <th>volume</th>\n",
       "      <th>issue</th>\n",
       "      <th>title</th>\n",
       "      <th>authors</th>\n",
       "      <th>doi</th>\n",
       "      <th>citations</th>\n",
       "      <th>cited_by</th>\n",
       "    </tr>\n",
       "  </thead>\n",
       "  <tbody>\n",
       "  </tbody>\n",
       "</table>\n",
       "</div>"
      ],
      "text/plain": [
       "Empty DataFrame\n",
       "Columns: [id, url, journal, year, volume, issue, title, authors, doi, citations, cited_by]\n",
       "Index: []"
      ]
     },
     "execution_count": 3,
     "metadata": {},
     "output_type": "execute_result"
    }
   ],
   "source": [
    " \n",
    "sql_command = \"SELECT * FROM metadata\"\n",
    "# Load the data\n",
    "data = pd.read_sql(sql_command, db.conn)\n",
    "data"
   ]
  },
  {
   "cell_type": "markdown",
   "metadata": {
    "collapsed": true
   },
   "source": [
    "### add article metadata"
   ]
  },
  {
   "cell_type": "code",
   "execution_count": 4,
   "metadata": {
    "collapsed": true
   },
   "outputs": [],
   "source": [
    "meta ={}\n",
    "meta['id'] = 1\n",
    "meta['url'] = ['article.url']\n",
    "meta['journal'] = 'self.journal'\n",
    "meta['year'] = 2001\n",
    "meta['volume'] = 5\n",
    "meta['issue'] = 8\n",
    "meta['title'] = 'Hello world'\n",
    "meta['authors'] = ['Smith, J','Woodruff, W','Harris, M']\n",
    "meta['doi'] = 'asdfljasd;flkjasf'\n",
    "meta['citations'] = [5, 9, 20, 3, 4]\n",
    "meta['cited_by'] = [1, 2, 6, 7, 8]\n",
    "\n",
    "sql_command = \"\"\"\\\n",
    "INSERT INTO metadata (\\\n",
    "id,url,journal,year,volume,issue,title,authors,doi,citations,cited_by\\\n",
    ") VALUES (%s, %s, %s, %s, %s, %s, %s, %s, %s, %s, %s)\"\"\"\n",
    "\n",
    "args = (meta['id'], meta['url'],meta['journal'],meta['year'],meta['volume'],\n",
    "          meta['issue'],meta['title'],meta['authors'],meta['doi'],\n",
    "          meta['citations'],meta['cited_by'])\n",
    "\n",
    "with db.conn.cursor() as cursor:\n",
    "    cursor.execute(sql_command, args)"
   ]
  },
  {
   "cell_type": "code",
   "execution_count": 56,
   "metadata": {},
   "outputs": [
    {
     "ename": "DatabaseError",
     "evalue": "Execution failed on sql: SELECT * FROM body\nterminating connection due to idle-in-transaction timeout\nSSL connection has been closed unexpectedly\n\nunable to rollback",
     "output_type": "error",
     "traceback": [
      "\u001b[0;31m---------------------------------------------------------------------------\u001b[0m",
      "\u001b[0;31mIdleInTransactionSessionTimeout\u001b[0m           Traceback (most recent call last)",
      "\u001b[0;32m~/anaconda3/lib/python3.6/site-packages/pandas/io/sql.py\u001b[0m in \u001b[0;36mexecute\u001b[0;34m(self, *args, **kwargs)\u001b[0m\n\u001b[1;32m   1430\u001b[0m             \u001b[0;32melse\u001b[0m\u001b[0;34m:\u001b[0m\u001b[0;34m\u001b[0m\u001b[0;34m\u001b[0m\u001b[0m\n\u001b[0;32m-> 1431\u001b[0;31m                 \u001b[0mcur\u001b[0m\u001b[0;34m.\u001b[0m\u001b[0mexecute\u001b[0m\u001b[0;34m(\u001b[0m\u001b[0;34m*\u001b[0m\u001b[0margs\u001b[0m\u001b[0;34m)\u001b[0m\u001b[0;34m\u001b[0m\u001b[0;34m\u001b[0m\u001b[0m\n\u001b[0m\u001b[1;32m   1432\u001b[0m             \u001b[0;32mreturn\u001b[0m \u001b[0mcur\u001b[0m\u001b[0;34m\u001b[0m\u001b[0;34m\u001b[0m\u001b[0m\n",
      "\u001b[0;31mIdleInTransactionSessionTimeout\u001b[0m: terminating connection due to idle-in-transaction timeout\nSSL connection has been closed unexpectedly\n",
      "\nDuring handling of the above exception, another exception occurred:\n",
      "\u001b[0;31mInterfaceError\u001b[0m                            Traceback (most recent call last)",
      "\u001b[0;32m~/anaconda3/lib/python3.6/site-packages/pandas/io/sql.py\u001b[0m in \u001b[0;36mexecute\u001b[0;34m(self, *args, **kwargs)\u001b[0m\n\u001b[1;32m   1434\u001b[0m             \u001b[0;32mtry\u001b[0m\u001b[0;34m:\u001b[0m\u001b[0;34m\u001b[0m\u001b[0;34m\u001b[0m\u001b[0m\n\u001b[0;32m-> 1435\u001b[0;31m                 \u001b[0mself\u001b[0m\u001b[0;34m.\u001b[0m\u001b[0mcon\u001b[0m\u001b[0;34m.\u001b[0m\u001b[0mrollback\u001b[0m\u001b[0;34m(\u001b[0m\u001b[0;34m)\u001b[0m\u001b[0;34m\u001b[0m\u001b[0;34m\u001b[0m\u001b[0m\n\u001b[0m\u001b[1;32m   1436\u001b[0m             \u001b[0;32mexcept\u001b[0m \u001b[0mException\u001b[0m\u001b[0;34m:\u001b[0m  \u001b[0;31m# pragma: no cover\u001b[0m\u001b[0;34m\u001b[0m\u001b[0;34m\u001b[0m\u001b[0m\n",
      "\u001b[0;31mInterfaceError\u001b[0m: connection already closed",
      "\nDuring handling of the above exception, another exception occurred:\n",
      "\u001b[0;31mDatabaseError\u001b[0m                             Traceback (most recent call last)",
      "\u001b[0;32m<ipython-input-56-30fae669f46e>\u001b[0m in \u001b[0;36m<module>\u001b[0;34m()\u001b[0m\n\u001b[1;32m      1\u001b[0m \u001b[0msql_command\u001b[0m \u001b[0;34m=\u001b[0m \u001b[0;34m\"SELECT * FROM body\"\u001b[0m\u001b[0;34m\u001b[0m\u001b[0;34m\u001b[0m\u001b[0m\n\u001b[1;32m      2\u001b[0m \u001b[0;31m# Load the data\u001b[0m\u001b[0;34m\u001b[0m\u001b[0;34m\u001b[0m\u001b[0;34m\u001b[0m\u001b[0m\n\u001b[0;32m----> 3\u001b[0;31m \u001b[0mdata\u001b[0m \u001b[0;34m=\u001b[0m \u001b[0mpd\u001b[0m\u001b[0;34m.\u001b[0m\u001b[0mread_sql\u001b[0m\u001b[0;34m(\u001b[0m\u001b[0msql_command\u001b[0m\u001b[0;34m,\u001b[0m \u001b[0mdb\u001b[0m\u001b[0;34m.\u001b[0m\u001b[0mconn\u001b[0m\u001b[0;34m)\u001b[0m\u001b[0;34m\u001b[0m\u001b[0;34m\u001b[0m\u001b[0m\n\u001b[0m\u001b[1;32m      4\u001b[0m \u001b[0mdata\u001b[0m\u001b[0;34m\u001b[0m\u001b[0;34m\u001b[0m\u001b[0m\n",
      "\u001b[0;32m~/anaconda3/lib/python3.6/site-packages/pandas/io/sql.py\u001b[0m in \u001b[0;36mread_sql\u001b[0;34m(sql, con, index_col, coerce_float, params, parse_dates, columns, chunksize)\u001b[0m\n\u001b[1;32m    378\u001b[0m             \u001b[0msql\u001b[0m\u001b[0;34m,\u001b[0m \u001b[0mindex_col\u001b[0m\u001b[0;34m=\u001b[0m\u001b[0mindex_col\u001b[0m\u001b[0;34m,\u001b[0m \u001b[0mparams\u001b[0m\u001b[0;34m=\u001b[0m\u001b[0mparams\u001b[0m\u001b[0;34m,\u001b[0m\u001b[0;34m\u001b[0m\u001b[0;34m\u001b[0m\u001b[0m\n\u001b[1;32m    379\u001b[0m             \u001b[0mcoerce_float\u001b[0m\u001b[0;34m=\u001b[0m\u001b[0mcoerce_float\u001b[0m\u001b[0;34m,\u001b[0m \u001b[0mparse_dates\u001b[0m\u001b[0;34m=\u001b[0m\u001b[0mparse_dates\u001b[0m\u001b[0;34m,\u001b[0m\u001b[0;34m\u001b[0m\u001b[0;34m\u001b[0m\u001b[0m\n\u001b[0;32m--> 380\u001b[0;31m             chunksize=chunksize)\n\u001b[0m\u001b[1;32m    381\u001b[0m \u001b[0;34m\u001b[0m\u001b[0m\n\u001b[1;32m    382\u001b[0m     \u001b[0;32mtry\u001b[0m\u001b[0;34m:\u001b[0m\u001b[0;34m\u001b[0m\u001b[0;34m\u001b[0m\u001b[0m\n",
      "\u001b[0;32m~/anaconda3/lib/python3.6/site-packages/pandas/io/sql.py\u001b[0m in \u001b[0;36mread_query\u001b[0;34m(self, sql, index_col, coerce_float, params, parse_dates, chunksize)\u001b[0m\n\u001b[1;32m   1466\u001b[0m \u001b[0;34m\u001b[0m\u001b[0m\n\u001b[1;32m   1467\u001b[0m         \u001b[0margs\u001b[0m \u001b[0;34m=\u001b[0m \u001b[0m_convert_params\u001b[0m\u001b[0;34m(\u001b[0m\u001b[0msql\u001b[0m\u001b[0;34m,\u001b[0m \u001b[0mparams\u001b[0m\u001b[0;34m)\u001b[0m\u001b[0;34m\u001b[0m\u001b[0;34m\u001b[0m\u001b[0m\n\u001b[0;32m-> 1468\u001b[0;31m         \u001b[0mcursor\u001b[0m \u001b[0;34m=\u001b[0m \u001b[0mself\u001b[0m\u001b[0;34m.\u001b[0m\u001b[0mexecute\u001b[0m\u001b[0;34m(\u001b[0m\u001b[0;34m*\u001b[0m\u001b[0margs\u001b[0m\u001b[0;34m)\u001b[0m\u001b[0;34m\u001b[0m\u001b[0;34m\u001b[0m\u001b[0m\n\u001b[0m\u001b[1;32m   1469\u001b[0m         \u001b[0mcolumns\u001b[0m \u001b[0;34m=\u001b[0m \u001b[0;34m[\u001b[0m\u001b[0mcol_desc\u001b[0m\u001b[0;34m[\u001b[0m\u001b[0;36m0\u001b[0m\u001b[0;34m]\u001b[0m \u001b[0;32mfor\u001b[0m \u001b[0mcol_desc\u001b[0m \u001b[0;32min\u001b[0m \u001b[0mcursor\u001b[0m\u001b[0;34m.\u001b[0m\u001b[0mdescription\u001b[0m\u001b[0;34m]\u001b[0m\u001b[0;34m\u001b[0m\u001b[0;34m\u001b[0m\u001b[0m\n\u001b[1;32m   1470\u001b[0m \u001b[0;34m\u001b[0m\u001b[0m\n",
      "\u001b[0;32m~/anaconda3/lib/python3.6/site-packages/pandas/io/sql.py\u001b[0m in \u001b[0;36mexecute\u001b[0;34m(self, *args, **kwargs)\u001b[0m\n\u001b[1;32m   1438\u001b[0m                     \u001b[0;34m\"Execution failed on sql: {sql}\\n{exc}\\nunable \"\u001b[0m\u001b[0;34m\u001b[0m\u001b[0;34m\u001b[0m\u001b[0m\n\u001b[1;32m   1439\u001b[0m                     \"to rollback\".format(sql=args[0], exc=exc))\n\u001b[0;32m-> 1440\u001b[0;31m                 \u001b[0mraise_with_traceback\u001b[0m\u001b[0;34m(\u001b[0m\u001b[0mex\u001b[0m\u001b[0;34m)\u001b[0m\u001b[0;34m\u001b[0m\u001b[0;34m\u001b[0m\u001b[0m\n\u001b[0m\u001b[1;32m   1441\u001b[0m \u001b[0;34m\u001b[0m\u001b[0m\n\u001b[1;32m   1442\u001b[0m             ex = DatabaseError(\n",
      "\u001b[0;32m~/anaconda3/lib/python3.6/site-packages/pandas/compat/__init__.py\u001b[0m in \u001b[0;36mraise_with_traceback\u001b[0;34m(exc, traceback)\u001b[0m\n\u001b[1;32m    418\u001b[0m         \u001b[0;32mif\u001b[0m \u001b[0mtraceback\u001b[0m \u001b[0;34m==\u001b[0m \u001b[0mEllipsis\u001b[0m\u001b[0;34m:\u001b[0m\u001b[0;34m\u001b[0m\u001b[0;34m\u001b[0m\u001b[0m\n\u001b[1;32m    419\u001b[0m             \u001b[0m_\u001b[0m\u001b[0;34m,\u001b[0m \u001b[0m_\u001b[0m\u001b[0;34m,\u001b[0m \u001b[0mtraceback\u001b[0m \u001b[0;34m=\u001b[0m \u001b[0msys\u001b[0m\u001b[0;34m.\u001b[0m\u001b[0mexc_info\u001b[0m\u001b[0;34m(\u001b[0m\u001b[0;34m)\u001b[0m\u001b[0;34m\u001b[0m\u001b[0;34m\u001b[0m\u001b[0m\n\u001b[0;32m--> 420\u001b[0;31m         \u001b[0;32mraise\u001b[0m \u001b[0mexc\u001b[0m\u001b[0;34m.\u001b[0m\u001b[0mwith_traceback\u001b[0m\u001b[0;34m(\u001b[0m\u001b[0mtraceback\u001b[0m\u001b[0;34m)\u001b[0m\u001b[0;34m\u001b[0m\u001b[0;34m\u001b[0m\u001b[0m\n\u001b[0m\u001b[1;32m    421\u001b[0m \u001b[0;32melse\u001b[0m\u001b[0;34m:\u001b[0m\u001b[0;34m\u001b[0m\u001b[0;34m\u001b[0m\u001b[0m\n\u001b[1;32m    422\u001b[0m     \u001b[0;31m# this version of raise is a syntax error in Python 3\u001b[0m\u001b[0;34m\u001b[0m\u001b[0;34m\u001b[0m\u001b[0;34m\u001b[0m\u001b[0m\n",
      "\u001b[0;32m~/anaconda3/lib/python3.6/site-packages/pandas/io/sql.py\u001b[0m in \u001b[0;36mexecute\u001b[0;34m(self, *args, **kwargs)\u001b[0m\n\u001b[1;32m   1433\u001b[0m         \u001b[0;32mexcept\u001b[0m \u001b[0mException\u001b[0m \u001b[0;32mas\u001b[0m \u001b[0mexc\u001b[0m\u001b[0;34m:\u001b[0m\u001b[0;34m\u001b[0m\u001b[0;34m\u001b[0m\u001b[0m\n\u001b[1;32m   1434\u001b[0m             \u001b[0;32mtry\u001b[0m\u001b[0;34m:\u001b[0m\u001b[0;34m\u001b[0m\u001b[0;34m\u001b[0m\u001b[0m\n\u001b[0;32m-> 1435\u001b[0;31m                 \u001b[0mself\u001b[0m\u001b[0;34m.\u001b[0m\u001b[0mcon\u001b[0m\u001b[0;34m.\u001b[0m\u001b[0mrollback\u001b[0m\u001b[0;34m(\u001b[0m\u001b[0;34m)\u001b[0m\u001b[0;34m\u001b[0m\u001b[0;34m\u001b[0m\u001b[0m\n\u001b[0m\u001b[1;32m   1436\u001b[0m             \u001b[0;32mexcept\u001b[0m \u001b[0mException\u001b[0m\u001b[0;34m:\u001b[0m  \u001b[0;31m# pragma: no cover\u001b[0m\u001b[0;34m\u001b[0m\u001b[0;34m\u001b[0m\u001b[0m\n\u001b[1;32m   1437\u001b[0m                 ex = DatabaseError(\n",
      "\u001b[0;31mDatabaseError\u001b[0m: Execution failed on sql: SELECT * FROM body\nterminating connection due to idle-in-transaction timeout\nSSL connection has been closed unexpectedly\n\nunable to rollback"
     ]
    }
   ],
   "source": [
    "sql_command = \"SELECT * FROM metadata\"\n",
    "# Load the data\n",
    "data = pd.read_sql(sql_command, db.conn)\n",
    "data"
   ]
  },
  {
   "cell_type": "code",
   "execution_count": null,
   "metadata": {
    "collapsed": true
   },
   "outputs": [],
   "source": []
  },
  {
   "cell_type": "code",
   "execution_count": null,
   "metadata": {
    "collapsed": true
   },
   "outputs": [],
   "source": []
  },
  {
   "cell_type": "code",
   "execution_count": null,
   "metadata": {
    "collapsed": true
   },
   "outputs": [],
   "source": []
  },
  {
   "cell_type": "code",
   "execution_count": null,
   "metadata": {
    "collapsed": true
   },
   "outputs": [],
   "source": []
  },
  {
   "cell_type": "code",
   "execution_count": null,
   "metadata": {
    "collapsed": true
   },
   "outputs": [],
   "source": []
  },
  {
   "cell_type": "markdown",
   "metadata": {},
   "source": [
    "### Update citations"
   ]
  },
  {
   "cell_type": "code",
   "execution_count": 6,
   "metadata": {},
   "outputs": [],
   "source": [
    "sql = \"\"\"\\\n",
    "UPDATE metadata \\\n",
    "SET citations = array_cat(citations, %s) \\\n",
    "WHERE id = %s\"\"\"\n",
    "tst = [40, 41, 45]\n",
    "idnum = 1\n",
    "args = (tst,idnum)"
   ]
  },
  {
   "cell_type": "code",
   "execution_count": 7,
   "metadata": {},
   "outputs": [
    {
     "name": "stdout",
     "output_type": "stream",
     "text": [
      "UPDATE metadata SET citations = array_cat(citations, %s) WHERE id = %s\n",
      "([40, 41, 45], 1)\n"
     ]
    }
   ],
   "source": [
    "print(sql)\n",
    "print(args)"
   ]
  },
  {
   "cell_type": "code",
   "execution_count": 8,
   "metadata": {},
   "outputs": [],
   "source": []
  },
  {
   "cell_type": "code",
   "execution_count": null,
   "metadata": {
    "collapsed": true
   },
   "outputs": [],
   "source": []
  },
  {
   "cell_type": "markdown",
   "metadata": {},
   "source": [
    "### add more articles"
   ]
  },
  {
   "cell_type": "code",
   "execution_count": 19,
   "metadata": {},
   "outputs": [],
   "source": [
    "meta ={}\n",
    "meta['id'] = 8\n",
    "meta['url'] = ['article.url']\n",
    "meta['journal'] = 'self.journal'\n",
    "meta['year'] = 2008\n",
    "meta['volume'] = 5\n",
    "meta['issue'] = 8\n",
    "meta['title'] = 'Hello world'\n",
    "meta['authors'] = ['Smith, J','Woodruff, W','Harris, M']\n",
    "meta['doi'] = 'asdfljasd;flkjasf'\n",
    "meta['citations'] = [5, 9, 20, 3, 4]\n",
    "meta['cited_by'] = [1, 2, 6, 7, 8]\n",
    "\n",
    "sql_command = \"\"\"\\\n",
    "INSERT INTO metadata (\\\n",
    "id,url,journal,year,volume,issue,title,authors,doi,citations,cited_by\\\n",
    ") VALUES (%s, %s, %s, %s, %s, %s, %s, %s, %s, %s, %s)\"\"\"\n",
    "\n",
    "args = (meta['id'], meta['url'],meta['journal'],meta['year'],meta['volume'],\n",
    "          meta['issue'],meta['title'],meta['authors'],meta['doi'],\n",
    "          meta['citations'],meta['cited_by'])\n",
    "\n",
    "with db.conn.cursor() as cursor:\n",
    "    cursor.execute(sql_command, args)"
   ]
  },
  {
   "cell_type": "code",
   "execution_count": 22,
   "metadata": {},
   "outputs": [
    {
     "data": {
      "text/html": [
       "<div>\n",
       "<style scoped>\n",
       "    .dataframe tbody tr th:only-of-type {\n",
       "        vertical-align: middle;\n",
       "    }\n",
       "\n",
       "    .dataframe tbody tr th {\n",
       "        vertical-align: top;\n",
       "    }\n",
       "\n",
       "    .dataframe thead th {\n",
       "        text-align: right;\n",
       "    }\n",
       "</style>\n",
       "<table border=\"1\" class=\"dataframe\">\n",
       "  <thead>\n",
       "    <tr style=\"text-align: right;\">\n",
       "      <th></th>\n",
       "      <th>id</th>\n",
       "      <th>url</th>\n",
       "      <th>journal</th>\n",
       "      <th>year</th>\n",
       "      <th>volume</th>\n",
       "      <th>issue</th>\n",
       "      <th>title</th>\n",
       "      <th>authors</th>\n",
       "      <th>doi</th>\n",
       "      <th>citations</th>\n",
       "      <th>cited_by</th>\n",
       "    </tr>\n",
       "  </thead>\n",
       "  <tbody>\n",
       "    <tr>\n",
       "      <th>0</th>\n",
       "      <td>1</td>\n",
       "      <td>[article.url]</td>\n",
       "      <td>self.journal</td>\n",
       "      <td>2001</td>\n",
       "      <td>5</td>\n",
       "      <td>8</td>\n",
       "      <td>Hello world</td>\n",
       "      <td>[Smith, J, Woodruff, W, Harris, M]</td>\n",
       "      <td>asdfljasd;flkjasf</td>\n",
       "      <td>[5, 9, 20, 3, 4, 40, 41, 45]</td>\n",
       "      <td>[1, 2, 6, 7, 8]</td>\n",
       "    </tr>\n",
       "    <tr>\n",
       "      <th>1</th>\n",
       "      <td>7</td>\n",
       "      <td>[article.url]</td>\n",
       "      <td>self.journal</td>\n",
       "      <td>2008</td>\n",
       "      <td>5</td>\n",
       "      <td>8</td>\n",
       "      <td>Hello world</td>\n",
       "      <td>[Smith, J, Woodruff, W, Harris, M]</td>\n",
       "      <td>asdfljasd;flkjasf</td>\n",
       "      <td>[5, 9, 20, 3, 4]</td>\n",
       "      <td>[1, 2, 6, 7, 8]</td>\n",
       "    </tr>\n",
       "    <tr>\n",
       "      <th>2</th>\n",
       "      <td>8</td>\n",
       "      <td>[article.url]</td>\n",
       "      <td>self.journal</td>\n",
       "      <td>2008</td>\n",
       "      <td>5</td>\n",
       "      <td>8</td>\n",
       "      <td>Hello world</td>\n",
       "      <td>[Smith, J, Woodruff, W, Harris, M]</td>\n",
       "      <td>asdfljasd;flkjasf</td>\n",
       "      <td>[5, 9, 20, 3, 4]</td>\n",
       "      <td>[1, 2, 6, 7, 8]</td>\n",
       "    </tr>\n",
       "  </tbody>\n",
       "</table>\n",
       "</div>"
      ],
      "text/plain": [
       "   id            url       journal  year  volume  issue        title  \\\n",
       "0   1  [article.url]  self.journal  2001       5      8  Hello world   \n",
       "1   7  [article.url]  self.journal  2008       5      8  Hello world   \n",
       "2   8  [article.url]  self.journal  2008       5      8  Hello world   \n",
       "\n",
       "                              authors                doi  \\\n",
       "0  [Smith, J, Woodruff, W, Harris, M]  asdfljasd;flkjasf   \n",
       "1  [Smith, J, Woodruff, W, Harris, M]  asdfljasd;flkjasf   \n",
       "2  [Smith, J, Woodruff, W, Harris, M]  asdfljasd;flkjasf   \n",
       "\n",
       "                      citations         cited_by  \n",
       "0  [5, 9, 20, 3, 4, 40, 41, 45]  [1, 2, 6, 7, 8]  \n",
       "1              [5, 9, 20, 3, 4]  [1, 2, 6, 7, 8]  \n",
       "2              [5, 9, 20, 3, 4]  [1, 2, 6, 7, 8]  "
      ]
     },
     "execution_count": 22,
     "metadata": {},
     "output_type": "execute_result"
    }
   ],
   "source": [
    "sql_command = \"SELECT * FROM metadata\"\n",
    "# Load the data\n",
    "data = pd.read_sql(sql_command, db.conn)\n",
    "data"
   ]
  },
  {
   "cell_type": "markdown",
   "metadata": {},
   "source": [
    "### Find out if article is already in db"
   ]
  },
  {
   "cell_type": "code",
   "execution_count": 11,
   "metadata": {},
   "outputs": [
    {
     "name": "stdout",
     "output_type": "stream",
     "text": [
      "SELECT COUNT(*) FROM metadata WHERE title = %s AND year = %s\n",
      "('Hello world', 2001)\n"
     ]
    }
   ],
   "source": [
    "title = 'Hello world'\n",
    "year = 2001\n",
    "sql_command = \"\"\"\\\n",
    "SELECT COUNT(*) \\\n",
    "FROM metadata \\\n",
    "WHERE title = %s \\\n",
    "AND year = %s\"\"\"\n",
    "\n",
    "args = (title, year)\n",
    "print(sql_command)\n",
    "print(args)"
   ]
  },
  {
   "cell_type": "code",
   "execution_count": 12,
   "metadata": {},
   "outputs": [
    {
     "name": "stdout",
     "output_type": "stream",
     "text": [
      "True\n"
     ]
    }
   ],
   "source": [
    "with db.conn.cursor() as cursor:\n",
    "    cursor.execute(sql_command, args)\n",
    "    print(cursor.fetchone()[0] > 0)"
   ]
  },
  {
   "cell_type": "markdown",
   "metadata": {},
   "source": [
    "### Find out what the max id currently is"
   ]
  },
  {
   "cell_type": "code",
   "execution_count": 13,
   "metadata": {},
   "outputs": [
    {
     "name": "stdout",
     "output_type": "stream",
     "text": [
      "SELECT MAX(id) FROM metadata\n"
     ]
    }
   ],
   "source": [
    "sql_command = \"\"\"\\\n",
    "SELECT MAX(id) \\\n",
    "FROM metadata\"\"\"\n",
    "\n",
    "print(sql_command)"
   ]
  },
  {
   "cell_type": "code",
   "execution_count": 14,
   "metadata": {},
   "outputs": [
    {
     "name": "stdout",
     "output_type": "stream",
     "text": [
      "8\n"
     ]
    }
   ],
   "source": [
    "with db.conn.cursor() as cursor:\n",
    "    cursor.execute(sql_command)\n",
    "    nextID = (cursor.fetchone()[0])+1\n",
    "print(nextID)"
   ]
  },
  {
   "cell_type": "markdown",
   "metadata": {},
   "source": [
    "### Get index of a specific article"
   ]
  },
  {
   "cell_type": "code",
   "execution_count": 42,
   "metadata": {},
   "outputs": [
    {
     "name": "stdout",
     "output_type": "stream",
     "text": [
      "SELECT * FROM metadata WHERE title = %s AND year = %s\n",
      "('Hello world', 2008)\n",
      "(7, ['article.url'], 'self.journal', 2008, 5, 8, 'Hello world', ['Smith, J', 'Woodruff, W', 'Harris, M'], 'asdfljasd;flkjasf', [5, 9, 20, 3, 4], [1, 2, 6, 7, 8])\n"
     ]
    }
   ],
   "source": [
    "title = 'Hello world'\n",
    "year = 2008\n",
    "sql_command = \"\"\"\\\n",
    "SELECT * \\\n",
    "FROM metadata \\\n",
    "WHERE title = %s \\\n",
    "AND year = %s\"\"\"\n",
    "\n",
    "args = (title, year)\n",
    "print(sql_command)\n",
    "print(args)\n",
    "\n",
    "with db.conn.cursor() as cursor:\n",
    "    cursor.execute(sql_command, args)\n",
    "    art_id = cursor.fetchone()\n",
    "\n",
    "print(art_id)"
   ]
  },
  {
   "cell_type": "code",
   "execution_count": 33,
   "metadata": {},
   "outputs": [],
   "source": [
    "art_id = []\n",
    "art_id = [i[0] for i in art_id] # convert from tuple"
   ]
  },
  {
   "cell_type": "code",
   "execution_count": 48,
   "metadata": {},
   "outputs": [],
   "source": [
    "art_id = list(art_id)"
   ]
  },
  {
   "cell_type": "code",
   "execution_count": 44,
   "metadata": {
    "collapsed": true
   },
   "outputs": [],
   "source": [
    "meta_keys = ['id','url','journal','year','volume','issue','title','authors','doi','citations','cited_by'] "
   ]
  },
  {
   "cell_type": "code",
   "execution_count": 49,
   "metadata": {
    "collapsed": true
   },
   "outputs": [],
   "source": [
    "res = dict(zip(meta_keys, art_id)) "
   ]
  },
  {
   "cell_type": "code",
   "execution_count": 50,
   "metadata": {},
   "outputs": [
    {
     "data": {
      "text/plain": [
       "{'authors': ['Smith, J', 'Woodruff, W', 'Harris, M'],\n",
       " 'citations': [5, 9, 20, 3, 4],\n",
       " 'cited_by': [1, 2, 6, 7, 8],\n",
       " 'doi': 'asdfljasd;flkjasf',\n",
       " 'id': 7,\n",
       " 'issue': 8,\n",
       " 'journal': 'self.journal',\n",
       " 'title': 'Hello world',\n",
       " 'url': ['article.url'],\n",
       " 'volume': 5,\n",
       " 'year': 2008}"
      ]
     },
     "execution_count": 50,
     "metadata": {},
     "output_type": "execute_result"
    }
   ],
   "source": [
    "res"
   ]
  },
  {
   "cell_type": "code",
   "execution_count": 51,
   "metadata": {
    "collapsed": true
   },
   "outputs": [],
   "source": [
    "section={}\n",
    "section['intro']='lorem ipsum'\n",
    "section['abstract']='hello world'\n",
    "section['methods']='me may ma mo moo'"
   ]
  },
  {
   "cell_type": "code",
   "execution_count": 55,
   "metadata": {},
   "outputs": [
    {
     "name": "stdout",
     "output_type": "stream",
     "text": [
      "lorem ipsum\n",
      "hello world\n",
      "me may ma mo moo\n"
     ]
    }
   ],
   "source": [
    "for i in section.keys():\n",
    "    print(section[i])"
   ]
  },
  {
   "cell_type": "code",
   "execution_count": 59,
   "metadata": {},
   "outputs": [
    {
     "data": {
      "text/html": [
       "<div>\n",
       "<style scoped>\n",
       "    .dataframe tbody tr th:only-of-type {\n",
       "        vertical-align: middle;\n",
       "    }\n",
       "\n",
       "    .dataframe tbody tr th {\n",
       "        vertical-align: top;\n",
       "    }\n",
       "\n",
       "    .dataframe thead th {\n",
       "        text-align: right;\n",
       "    }\n",
       "</style>\n",
       "<table border=\"1\" class=\"dataframe\">\n",
       "  <thead>\n",
       "    <tr style=\"text-align: right;\">\n",
       "      <th></th>\n",
       "      <th>id</th>\n",
       "      <th>sectiona</th>\n",
       "      <th>sectionb</th>\n",
       "      <th>prose</th>\n",
       "    </tr>\n",
       "  </thead>\n",
       "  <tbody>\n",
       "  </tbody>\n",
       "</table>\n",
       "</div>"
      ],
      "text/plain": [
       "Empty DataFrame\n",
       "Columns: [id, sectiona, sectionb, prose]\n",
       "Index: []"
      ]
     },
     "execution_count": 59,
     "metadata": {},
     "output_type": "execute_result"
    }
   ],
   "source": [
    "sql_command = \"SELECT * FROM body\"\n",
    "# Load the data\n",
    "data = pd.read_sql(sql_command, db.conn)\n",
    "data"
   ]
  },
  {
   "cell_type": "code",
   "execution_count": null,
   "metadata": {
    "collapsed": true
   },
   "outputs": [],
   "source": []
  }
 ],
 "metadata": {
  "kernelspec": {
   "display_name": "Python 3",
   "language": "python",
   "name": "python3"
  },
  "language_info": {
   "codemirror_mode": {
    "name": "ipython",
    "version": 3
   },
   "file_extension": ".py",
   "mimetype": "text/x-python",
   "name": "python",
   "nbconvert_exporter": "python",
   "pygments_lexer": "ipython3",
   "version": "3.6.10"
  }
 },
 "nbformat": 4,
 "nbformat_minor": 2
}
